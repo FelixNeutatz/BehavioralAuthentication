{
 "cells": [
  {
   "cell_type": "code",
   "execution_count": 1,
   "metadata": {
    "collapsed": true
   },
   "outputs": [],
   "source": [
    "import time\n",
    "import Xlib.display as display\n",
    "import ConfigParser"
   ]
  },
  {
   "cell_type": "code",
   "execution_count": 2,
   "metadata": {
    "collapsed": false
   },
   "outputs": [],
   "source": [
    "#read write project path\n",
    "#TODO: configure this file according to your path: BehavioralAuthentication/src/main/php/configuration.cfg\n",
    "config = ConfigParser.RawConfigParser()\n",
    "config.read('configuration.cfg')\n",
    "\n",
    "project_dir_path = config.get('Section1', 'project_dir')\n",
    "resource_path = project_dir_path + \"src/test/resources/\""
   ]
  },
  {
   "cell_type": "code",
   "execution_count": 3,
   "metadata": {
    "collapsed": false
   },
   "outputs": [],
   "source": [
    "#record mouse\n",
    "\n",
    "screenroot=display.Display().screen().root\n",
    "pointer = screenroot.query_pointer()\n",
    "\n",
    "#start recording after 5 seconds\n",
    "time.sleep(5)\n",
    "\n",
    "seconds = 5\n",
    "t_end = time.time() + seconds\n",
    "\n",
    "dat = {}\n",
    "i = 0\n",
    "\n",
    "while time.time() < t_end:\n",
    "    \n",
    "    nextTime = time.time() + 0.03 #0.03 \n",
    "    \n",
    "    pointer = screenroot.query_pointer()\n",
    "    data = pointer._data\n",
    "    \n",
    "    dat[i] = (time.time(),data[\"root_x\"],data[\"root_y\"])\n",
    "    i = i + 1\n",
    "    \n",
    "    currentTime = time.time()\n",
    "    while currentTime < nextTime:\n",
    "        currentTime = time.time()\n",
    "\n",
    "f = open(resource_path + 'felix_test','w')\n",
    "for t in range(i):\n",
    "    f.write(str(dat[t][0]) + \",\" + str(dat[t][1]) + \",\" + str(dat[t][2]) + \"\\n\")\n",
    "f.close()"
   ]
  }
 ],
 "metadata": {
  "kernelspec": {
   "display_name": "Python 2",
   "language": "python",
   "name": "python2"
  },
  "language_info": {
   "codemirror_mode": {
    "name": "ipython",
    "version": 2
   },
   "file_extension": ".py",
   "mimetype": "text/x-python",
   "name": "python",
   "nbconvert_exporter": "python",
   "pygments_lexer": "ipython2",
   "version": "2.7.6"
  }
 },
 "nbformat": 4,
 "nbformat_minor": 0
}
